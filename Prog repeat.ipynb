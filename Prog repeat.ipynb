{
 "cells": [
  {
   "cell_type": "code",
   "execution_count": 1,
   "id": "25a12c5c",
   "metadata": {
    "scrolled": true
   },
   "outputs": [
    {
     "name": "stdout",
     "output_type": "stream",
     "text": [
      "Requirement already satisfied: pandas in c:\\users\\igerl\\anaconda3\\lib\\site-packages (2.0.3)\n",
      "Requirement already satisfied: requests in c:\\users\\igerl\\anaconda3\\lib\\site-packages (2.31.0)\n",
      "Requirement already satisfied: matplotlib in c:\\users\\igerl\\anaconda3\\lib\\site-packages (3.7.2)\n",
      "Requirement already satisfied: seaborn in c:\\users\\igerl\\anaconda3\\lib\\site-packages (0.12.2)\n",
      "Requirement already satisfied: python-dateutil>=2.8.2 in c:\\users\\igerl\\anaconda3\\lib\\site-packages (from pandas) (2.8.2)\n",
      "Requirement already satisfied: pytz>=2020.1 in c:\\users\\igerl\\anaconda3\\lib\\site-packages (from pandas) (2023.3.post1)\n",
      "Requirement already satisfied: tzdata>=2022.1 in c:\\users\\igerl\\anaconda3\\lib\\site-packages (from pandas) (2023.3)\n",
      "Requirement already satisfied: numpy>=1.21.0 in c:\\users\\igerl\\anaconda3\\lib\\site-packages (from pandas) (1.26.4)\n",
      "Requirement already satisfied: charset-normalizer<4,>=2 in c:\\users\\igerl\\anaconda3\\lib\\site-packages (from requests) (2.0.4)\n",
      "Requirement already satisfied: idna<4,>=2.5 in c:\\users\\igerl\\anaconda3\\lib\\site-packages (from requests) (3.4)\n",
      "Requirement already satisfied: urllib3<3,>=1.21.1 in c:\\users\\igerl\\anaconda3\\lib\\site-packages (from requests) (1.26.16)\n",
      "Requirement already satisfied: certifi>=2017.4.17 in c:\\users\\igerl\\anaconda3\\lib\\site-packages (from requests) (2023.7.22)\n",
      "Requirement already satisfied: contourpy>=1.0.1 in c:\\users\\igerl\\anaconda3\\lib\\site-packages (from matplotlib) (1.0.5)\n",
      "Requirement already satisfied: cycler>=0.10 in c:\\users\\igerl\\anaconda3\\lib\\site-packages (from matplotlib) (0.11.0)\n",
      "Requirement already satisfied: fonttools>=4.22.0 in c:\\users\\igerl\\anaconda3\\lib\\site-packages (from matplotlib) (4.25.0)\n",
      "Requirement already satisfied: kiwisolver>=1.0.1 in c:\\users\\igerl\\anaconda3\\lib\\site-packages (from matplotlib) (1.4.4)\n",
      "Requirement already satisfied: packaging>=20.0 in c:\\users\\igerl\\anaconda3\\lib\\site-packages (from matplotlib) (23.1)\n",
      "Requirement already satisfied: pillow>=6.2.0 in c:\\users\\igerl\\anaconda3\\lib\\site-packages (from matplotlib) (9.4.0)\n",
      "Requirement already satisfied: pyparsing<3.1,>=2.3.1 in c:\\users\\igerl\\anaconda3\\lib\\site-packages (from matplotlib) (3.0.9)\n",
      "Requirement already satisfied: six>=1.5 in c:\\users\\igerl\\anaconda3\\lib\\site-packages (from python-dateutil>=2.8.2->pandas) (1.16.0)\n",
      "Note: you may need to restart the kernel to use updated packages.\n"
     ]
    }
   ],
   "source": [
    "pip install pandas requests matplotlib seaborn"
   ]
  },
  {
   "cell_type": "code",
   "execution_count": 7,
   "id": "a3127fd3",
   "metadata": {},
   "outputs": [
    {
     "name": "stdout",
     "output_type": "stream",
     "text": [
      "Requirement already satisfied: textblob in c:\\users\\igerl\\anaconda3\\lib\\site-packages (0.17.1)\n",
      "Requirement already satisfied: nltk>=3.1 in c:\\users\\igerl\\anaconda3\\lib\\site-packages (from textblob) (3.8.1)\n",
      "Requirement already satisfied: click in c:\\users\\igerl\\anaconda3\\lib\\site-packages (from nltk>=3.1->textblob) (8.0.4)\n",
      "Requirement already satisfied: joblib in c:\\users\\igerl\\anaconda3\\lib\\site-packages (from nltk>=3.1->textblob) (1.1.1)\n",
      "Requirement already satisfied: regex>=2021.8.3 in c:\\users\\igerl\\anaconda3\\lib\\site-packages (from nltk>=3.1->textblob) (2022.7.9)\n",
      "Requirement already satisfied: tqdm in c:\\users\\igerl\\anaconda3\\lib\\site-packages (from nltk>=3.1->textblob) (4.65.0)\n",
      "Requirement already satisfied: colorama in c:\\users\\igerl\\anaconda3\\lib\\site-packages (from click->nltk>=3.1->textblob) (0.4.6)\n",
      "Note: you may need to restart the kernel to use updated packages.\n"
     ]
    }
   ],
   "source": [
    "pip install textblob"
   ]
  },
  {
   "cell_type": "code",
   "execution_count": 16,
   "id": "0e217f6e",
   "metadata": {},
   "outputs": [],
   "source": [
    "# Load and explore data"
   ]
  },
  {
   "cell_type": "code",
   "execution_count": 14,
   "id": "c9aa0bc3",
   "metadata": {},
   "outputs": [
    {
     "data": {
      "text/html": [
       "<div>\n",
       "<style scoped>\n",
       "    .dataframe tbody tr th:only-of-type {\n",
       "        vertical-align: middle;\n",
       "    }\n",
       "\n",
       "    .dataframe tbody tr th {\n",
       "        vertical-align: top;\n",
       "    }\n",
       "\n",
       "    .dataframe thead th {\n",
       "        text-align: right;\n",
       "    }\n",
       "</style>\n",
       "<table border=\"1\" class=\"dataframe\">\n",
       "  <thead>\n",
       "    <tr style=\"text-align: right;\">\n",
       "      <th></th>\n",
       "      <th>Year</th>\n",
       "      <th>Company</th>\n",
       "      <th>Revenue (in millions)</th>\n",
       "      <th>Profit (in millions)</th>\n",
       "    </tr>\n",
       "  </thead>\n",
       "  <tbody>\n",
       "    <tr>\n",
       "      <th>0</th>\n",
       "      <td>1955</td>\n",
       "      <td>General Motors</td>\n",
       "      <td>9823.5</td>\n",
       "      <td>806.0</td>\n",
       "    </tr>\n",
       "    <tr>\n",
       "      <th>1</th>\n",
       "      <td>1956</td>\n",
       "      <td>General Motors</td>\n",
       "      <td>12443.3</td>\n",
       "      <td>1189.5</td>\n",
       "    </tr>\n",
       "    <tr>\n",
       "      <th>2</th>\n",
       "      <td>1957</td>\n",
       "      <td>General Motors</td>\n",
       "      <td>10796.4</td>\n",
       "      <td>847.4</td>\n",
       "    </tr>\n",
       "    <tr>\n",
       "      <th>3</th>\n",
       "      <td>1958</td>\n",
       "      <td>General Motors</td>\n",
       "      <td>10989.8</td>\n",
       "      <td>843.6</td>\n",
       "    </tr>\n",
       "    <tr>\n",
       "      <th>4</th>\n",
       "      <td>1959</td>\n",
       "      <td>General Motors</td>\n",
       "      <td>9522.0</td>\n",
       "      <td>633.6</td>\n",
       "    </tr>\n",
       "  </tbody>\n",
       "</table>\n",
       "</div>"
      ],
      "text/plain": [
       "   Year         Company  Revenue (in millions)  Profit (in millions)\n",
       "0  1955  General Motors                 9823.5                 806.0\n",
       "1  1956  General Motors                12443.3                1189.5\n",
       "2  1957  General Motors                10796.4                 847.4\n",
       "3  1958  General Motors                10989.8                 843.6\n",
       "4  1959  General Motors                 9522.0                 633.6"
      ]
     },
     "execution_count": 14,
     "metadata": {},
     "output_type": "execute_result"
    }
   ],
   "source": [
    "# Import necessary libraries\n",
    "import pandas as pd\n",
    "\n",
    "# Load the CSV file\n",
    "df = pd.read_csv('General Motors.csv')\n",
    "\n",
    "# Display the first 5 rows\n",
    "df.head(5)"
   ]
  },
  {
   "cell_type": "code",
   "execution_count": 15,
   "id": "518042a7",
   "metadata": {},
   "outputs": [
    {
     "name": "stdout",
     "output_type": "stream",
     "text": [
      "{'0': {'data': {'edit_history_tweet_ids': ['1590047656314691584'], 'id': '1590047656314691584', 'text': 'RT @CologeroGetz: Arizona! Here are some important names to remember and pictures to share on your social media today!\\n\\nAbe Hamadeh for Att…'}, 'matching_rules': [{'id': '1590047576933687297', 'tag': 'election'}]}, '1': {'data': {'edit_history_tweet_ids': ['1590047663289823234'], 'id': '1590047663289823234', 'text': 'RT @ardenthistorian: Wahltag, das Signal für diverses \"was kümmerst du dich um die USA kümmer dich lieber um Deutschland\" Gepöbele. Sweet p…'}, 'matching_rules': [{'id': '1590047576933687297', 'tag': 'election'}]}, '2': {'data': {'edit_history_tweet_ids': ['1590047663453519872'], 'id': '1590047663453519872', 'text': '🇺🇸 #Midterms : les Américains aux urnes, entre «peur pour la démocratie» et envie de «sauver» le pays \\n\\nIls sont des dizaines de millions à avoir attendu le jour J pour exprimer leur choix. Reportage @fredericautran &amp; @juliengester ⤵\\nhttps://t.co/5nHxcz63yP'}, 'matching_rules': [{'id': '1590047576933687297', 'tag': 'election'}]}, '3': {'data': {'edit_history_tweet_ids': ['1590047664179408896'], 'id': '1590047664179408896', 'text': \"RT @mattdizwhitlock: Still blown away by Biden's closing message the final week before midterms.\\n\\nNov 2 - John Kerry says Biden is going to…\"}, 'matching_rules': [{'id': '1590047576933687297', 'tag': 'election'}]}, '4': {'data': {'edit_history_tweet_ids': ['1590047658911371264'], 'id': '1590047658911371264', 'text': 'RT @DaoKwonDo: SET THOSE REMINDERS!! \\n——\\nJoin us for the best audio experience on web3 twitter 🎤 \\n——\\nDiscussing:\\n•Current market analysis/M…'}, 'matching_rules': [{'id': '1590047576933687297', 'tag': 'election'}]}}\n"
     ]
    }
   ],
   "source": [
    "# Import the necessary library for handling JSON files\n",
    "import json\n",
    "\n",
    "# Path to the JSON file\n",
    "file_path = \"Midterms Tweets.json\"\n",
    "\n",
    "# Read and parse the JSON file\n",
    "with open(file_path, 'r') as file:\n",
    "    data = json.load(file)\n",
    "\n",
    "# Display a small portion of the data\n",
    "if isinstance(data, list):\n",
    "    print(data[:5])  # Print first 5 items if it's a list\n",
    "elif isinstance(data, dict):\n",
    "    print({key: data[key] for key in list(data.keys())[:5]})  # Print first 5 key-value pairs"
   ]
  },
  {
   "cell_type": "code",
   "execution_count": 17,
   "id": "ccbe5701",
   "metadata": {},
   "outputs": [
    {
     "name": "stdout",
     "output_type": "stream",
     "text": [
      "CSV Data Structure:\n",
      "<class 'pandas.core.frame.DataFrame'>\n",
      "RangeIndex: 51 entries, 0 to 50\n",
      "Data columns (total 4 columns):\n",
      " #   Column                 Non-Null Count  Dtype  \n",
      "---  ------                 --------------  -----  \n",
      " 0   Year                   51 non-null     int64  \n",
      " 1   Company                51 non-null     object \n",
      " 2   Revenue (in millions)  51 non-null     float64\n",
      " 3   Profit (in millions)   51 non-null     float64\n",
      "dtypes: float64(2), int64(1), object(1)\n",
      "memory usage: 1.7+ KB\n",
      "None\n",
      "\n",
      "JSON Data Structure:\n",
      "Type of data: <class 'dict'>\n",
      "First 5 key-value pairs in dict: [('0', {'data': {'edit_history_tweet_ids': ['1590047656314691584'], 'id': '1590047656314691584', 'text': 'RT @CologeroGetz: Arizona! Here are some important names to remember and pictures to share on your social media today!\\n\\nAbe Hamadeh for Att…'}, 'matching_rules': [{'id': '1590047576933687297', 'tag': 'election'}]}), ('1', {'data': {'edit_history_tweet_ids': ['1590047663289823234'], 'id': '1590047663289823234', 'text': 'RT @ardenthistorian: Wahltag, das Signal für diverses \"was kümmerst du dich um die USA kümmer dich lieber um Deutschland\" Gepöbele. Sweet p…'}, 'matching_rules': [{'id': '1590047576933687297', 'tag': 'election'}]}), ('2', {'data': {'edit_history_tweet_ids': ['1590047663453519872'], 'id': '1590047663453519872', 'text': '🇺🇸 #Midterms : les Américains aux urnes, entre «peur pour la démocratie» et envie de «sauver» le pays \\n\\nIls sont des dizaines de millions à avoir attendu le jour J pour exprimer leur choix. Reportage @fredericautran &amp; @juliengester ⤵\\nhttps://t.co/5nHxcz63yP'}, 'matching_rules': [{'id': '1590047576933687297', 'tag': 'election'}]}), ('3', {'data': {'edit_history_tweet_ids': ['1590047664179408896'], 'id': '1590047664179408896', 'text': \"RT @mattdizwhitlock: Still blown away by Biden's closing message the final week before midterms.\\n\\nNov 2 - John Kerry says Biden is going to…\"}, 'matching_rules': [{'id': '1590047576933687297', 'tag': 'election'}]}), ('4', {'data': {'edit_history_tweet_ids': ['1590047658911371264'], 'id': '1590047658911371264', 'text': 'RT @DaoKwonDo: SET THOSE REMINDERS!! \\n——\\nJoin us for the best audio experience on web3 twitter 🎤 \\n——\\nDiscussing:\\n•Current market analysis/M…'}, 'matching_rules': [{'id': '1590047576933687297', 'tag': 'election'}]})]\n"
     ]
    }
   ],
   "source": [
    "# Display data structure of CSV data (Pandas DataFrame)\n",
    "print(\"CSV Data Structure:\")\n",
    "print(df.info())\n",
    "\n",
    "# Display data structure of JSON data\n",
    "print(\"\\nJSON Data Structure:\")\n",
    "print(f\"Type of data: {type(data)}\")\n",
    "if isinstance(data, list):\n",
    "    print(f\"First 5 items in list: {data[:5]}\")\n",
    "elif isinstance(data, dict):\n",
    "    print(f\"First 5 key-value pairs in dict: {list(data.items())[:5]}\")"
   ]
  },
  {
   "cell_type": "code",
   "execution_count": 18,
   "id": "3a9f367e",
   "metadata": {},
   "outputs": [
    {
     "name": "stdout",
     "output_type": "stream",
     "text": [
      "Aggregated CSV data:\n",
      "                Revenue (in millions)  Profit (in millions)\n",
      "Company                                                    \n",
      "General Motors              4019056.8               89470.1\n",
      "Extracted Tweets (First 5):\n",
      "['RT @CologeroGetz: Arizona! Here are some important names to remember and pictures to share on your social media today!\\n\\nAbe Hamadeh for Att…', 'RT @ardenthistorian: Wahltag, das Signal für diverses \"was kümmerst du dich um die USA kümmer dich lieber um Deutschland\" Gepöbele. Sweet p…', '🇺🇸 #Midterms : les Américains aux urnes, entre «peur pour la démocratie» et envie de «sauver» le pays \\n\\nIls sont des dizaines de millions à avoir attendu le jour J pour exprimer leur choix. Reportage @fredericautran &amp; @juliengester ⤵\\nhttps://t.co/5nHxcz63yP', \"RT @mattdizwhitlock: Still blown away by Biden's closing message the final week before midterms.\\n\\nNov 2 - John Kerry says Biden is going to…\", 'RT @DaoKwonDo: SET THOSE REMINDERS!! \\n——\\nJoin us for the best audio experience on web3 twitter 🎤 \\n——\\nDiscussing:\\n•Current market analysis/M…']\n"
     ]
    }
   ],
   "source": [
    "# For CSV and JSON, the libraries used are Pandas and json (standard Python library)\n",
    "# Pandas is used to read and manipulate tabular data, while JSON is used to parse hierarchical structures.\n",
    "\n",
    "import pandas as pd\n",
    "import json\n",
    "\n",
    "# Processing the CSV file using Pandas\n",
    "csv_data = pd.read_csv('General Motors.csv')\n",
    "\n",
    "# Processing the JSON file using json library\n",
    "with open(\"Midterms Tweets.json\", 'r') as file:\n",
    "    json_data = json.load(file)\n",
    "\n",
    "# Example code showing how data from diverse sources can be manipulated:\n",
    "# Aggregating/reducing data in CSV:\n",
    "csv_aggregated = csv_data.groupby('Company').agg({'Revenue (in millions)': 'sum', 'Profit (in millions)': 'sum'})\n",
    "\n",
    "# Extracting specific elements from JSON:\n",
    "tweet_data = [tweet['data']['text'] for tweet in json_data.values()]\n",
    "\n",
    "print(f\"Aggregated CSV data:\\n{csv_aggregated.head()}\")\n",
    "print(f\"Extracted Tweets (First 5):\\n{tweet_data[:5]}\")"
   ]
  },
  {
   "cell_type": "code",
   "execution_count": 19,
   "id": "4badb30a",
   "metadata": {},
   "outputs": [
    {
     "name": "stdout",
     "output_type": "stream",
     "text": [
      "Basic testing passed successfully!\n"
     ]
    }
   ],
   "source": [
    "# Testing strategy involves ensuring that the code performs as expected with various checks\n",
    "\n",
    "# For CSV data\n",
    "assert df.shape[0] == 51, \"CSV data doesn't have the expected number of rows\"\n",
    "assert 'Company' in df.columns, \"Missing 'Company' column in CSV data\"\n",
    "\n",
    "# For JSON data\n",
    "assert isinstance(data, dict), \"JSON data isn't a dictionary\"\n",
    "assert len(data) > 0, \"JSON data is empty\"\n",
    "\n",
    "print(\"Basic testing passed successfully!\")"
   ]
  },
  {
   "cell_type": "code",
   "execution_count": 20,
   "id": "92ef1650",
   "metadata": {},
   "outputs": [
    {
     "name": "stdout",
     "output_type": "stream",
     "text": [
      "Optimization applied successfully!\n",
      "Optimized CSV data:\n",
      "   Year         Company  Revenue (in millions)  Profit (in millions)\n",
      "0  1955  General Motors            9823.500000            806.000000\n",
      "1  1956  General Motors           12443.299805           1189.500000\n",
      "2  1957  General Motors           10796.400391            847.400024\n",
      "3  1958  General Motors           10989.799805            843.599976\n",
      "4  1959  General Motors            9522.000000            633.599976\n",
      "Optimized Tweet Data (First 5):\n",
      "['RT @CologeroGetz: Arizona! Here are some important names to remember and pictures to share on your social media today!\\n\\nAbe Hamadeh for Att…', 'RT @ardenthistorian: Wahltag, das Signal für diverses \"was kümmerst du dich um die USA kümmer dich lieber um Deutschland\" Gepöbele. Sweet p…', '🇺🇸 #Midterms : les Américains aux urnes, entre «peur pour la démocratie» et envie de «sauver» le pays \\n\\nIls sont des dizaines de millions à avoir attendu le jour J pour exprimer leur choix. Reportage @fredericautran &amp; @juliengester ⤵\\nhttps://t.co/5nHxcz63yP', \"RT @mattdizwhitlock: Still blown away by Biden's closing message the final week before midterms.\\n\\nNov 2 - John Kerry says Biden is going to…\", 'RT @DaoKwonDo: SET THOSE REMINDERS!! \\n——\\nJoin us for the best audio experience on web3 twitter 🎤 \\n——\\nDiscussing:\\n•Current market analysis/M…']\n"
     ]
    }
   ],
   "source": [
    "# Optimization strategies for large datasets:\n",
    "# - Use vectorized operations in Pandas for performance (avoid loops)\n",
    "# - Consider reducing memory usage by converting data types (e.g., from float64 to float32)\n",
    "\n",
    "# Optimizing CSV data loading\n",
    "df_optimized = pd.read_csv('General Motors.csv', dtype={'Revenue (in millions)': 'float32', 'Profit (in millions)': 'float32'})\n",
    "\n",
    "# Optimizing JSON data extraction: Process only the required data (e.g., extracting only tweets)\n",
    "optimized_tweets = [tweet['data']['text'] for tweet in data.values()]\n",
    "\n",
    "print(\"Optimization applied successfully!\")\n",
    "print(f\"Optimized CSV data:\\n{df_optimized.head()}\")\n",
    "print(f\"Optimized Tweet Data (First 5):\\n{optimized_tweets[:5]}\")"
   ]
  },
  {
   "cell_type": "code",
   "execution_count": 21,
   "id": "d5212174",
   "metadata": {},
   "outputs": [
    {
     "name": "stdout",
     "output_type": "stream",
     "text": [
      "Aggregated CSV data by Year:\n",
      "      Revenue (in millions)  Profit (in millions)\n",
      "Year                                             \n",
      "1955                 9823.5                 806.0\n",
      "1956                12443.3                1189.5\n",
      "1957                10796.4                 847.4\n",
      "1958                10989.8                 843.6\n",
      "1959                 9522.0                 633.6\n",
      "1960                11233.1                 873.1\n",
      "1961                12736.0                 959.0\n",
      "1962                11395.9                 892.8\n",
      "1963                14640.2                1459.1\n",
      "1964                16494.8                1591.8\n",
      "1965                16997.0                1734.8\n",
      "1966                20734.0                2125.6\n",
      "1967                20208.5                1793.4\n",
      "1968                20026.3                1627.3\n",
      "1969                22755.4                1731.9\n",
      "1970                24295.1                1710.7\n",
      "1971                18752.4                 609.1\n",
      "1972                28263.9                1935.7\n",
      "1973                30435.2                2162.8\n",
      "1974                35798.3                2398.1\n",
      "1975                31549.5                 950.1\n",
      "1976                35724.9                1253.1\n",
      "1977                47181.0                2902.8\n",
      "1978                54961.3                3337.5\n",
      "1979                63221.1                3508.0\n",
      "1980                66311.2                2892.7\n",
      "1981                57728.5                -762.5\n",
      "1982                62698.5                 333.4\n",
      "1983                60025.6                 962.7\n",
      "1984                74581.6                3730.2\n",
      "1985                83889.9                4516.5\n",
      "1986                96371.7                3999.0\n",
      "1987               102813.7                2944.7\n",
      "1988               101782.0                3551.0\n",
      "1989               121085.0                4856.0\n",
      "1990               126974.3                4224.3\n",
      "1991               125126.0               -1985.7\n",
      "1992               123780.1               -4452.8\n",
      "1993               132774.9              -23498.3\n",
      "1994               133621.9                2465.8\n",
      "1995               154951.2                4900.6\n",
      "1996               168828.6                6880.7\n",
      "1997               168369.0                4963.0\n",
      "1998               178174.0                6698.0\n",
      "1999               161315.0                2956.0\n",
      "2000               189058.0                6002.0\n",
      "2001               184632.0                4452.0\n",
      "2002               177260.0                 601.0\n",
      "2003               186763.0                1736.0\n",
      "2004               195645.2                3822.0\n",
      "2005               193517.0                2805.0\n",
      "Tweet tag counts: Counter({'election': 75567})\n",
      "Test failed: [Errno 2] No such file or directory: 'Empty.csv'\n"
     ]
    }
   ],
   "source": [
    "# Aggregating by year and summing revenue and profit\n",
    "csv_aggregated_year = csv_data.groupby('Year').agg({'Revenue (in millions)': 'sum', 'Profit (in millions)': 'sum'})\n",
    "print(f\"Aggregated CSV data by Year:\\n{csv_aggregated_year}\")\n",
    "\n",
    "# Further Aggregation of Tweet Data: Counting tweets by tag\n",
    "from collections import Counter\n",
    "\n",
    "# Collecting all tags from the JSON data\n",
    "tags = [rule['tag'] for tweet in json_data.values() for rule in tweet['matching_rules']]\n",
    "tag_counts = Counter(tags)\n",
    "print(f\"Tweet tag counts: {tag_counts}\")\n",
    "\n",
    "# Example of adding edge cases in testing:\n",
    "try:\n",
    "    # Testing empty data files\n",
    "    empty_df = pd.read_csv('Empty.csv')\n",
    "except Exception as e:\n",
    "    print(f\"Test failed: {e}\")\n",
    "\n",
    "try:\n",
    "    # Testing with missing 'Company' column in CSV\n",
    "    assert 'Company' in df.columns, \"Column 'Company' is missing!\"\n",
    "except AssertionError as e:\n",
    "    print(f\"Test failed: {e}\")"
   ]
  },
  {
   "cell_type": "code",
   "execution_count": 25,
   "id": "f08371c6",
   "metadata": {},
   "outputs": [],
   "source": [
    "import pandas as pd\n",
    "import numpy as np\n",
    "import seaborn as sns\n",
    "import matplotlib.pyplot as plt"
   ]
  },
  {
   "cell_type": "code",
   "execution_count": 27,
   "id": "3fffc28e",
   "metadata": {
    "scrolled": true
   },
   "outputs": [
    {
     "data": {
      "image/png": "[encoded data removed]",
      "text/plain": [
       "<Figure size 1000x600 with 1 Axes>"
      ]
     },
     "metadata": {},
     "output_type": "display_data"
    }
   ],
   "source": [
    "# Check for missing values\n",
    "df.isnull().sum()\n",
    "\n",
    "# Fill missing values or drop them if needed\n",
    "df.fillna(method='ffill', inplace=True)\n",
    "\n",
    "# Handle outliers if any\n",
    "# For example, identifying outliers in 'Revenue' and 'Profit'\n",
    "plt.figure(figsize=(10,6))\n",
    "sns.boxplot(data=df[['Revenue (in millions)', 'Profit (in millions)']])\n",
    "plt.title('Boxplot for Revenue and Profit')\n",
    "plt.show()\n",
    "\n",
    "# Remove or handle outliers based on the distribution\n",
    "df = df[(df['Revenue (in millions)'] < df['Revenue (in millions)'].quantile(0.95))]  # Remove top 5% outliers\n",
    "df = df[(df['Profit (in millions)'] < df['Profit (in millions)'].quantile(0.95))]  # Remove top 5% outliers\n"
   ]
  }
 ],
 "metadata": {
  "kernelspec": {
   "display_name": "Python 3 (ipykernel)",
   "language": "python",
   "name": "python3"
  },
  "language_info": {
   "codemirror_mode": {
    "name": "ipython",
    "version": 3
   },
   "file_extension": ".py",
   "mimetype": "text/x-python",
   "name": "python",
   "nbconvert_exporter": "python",
   "pygments_lexer": "ipython3",
   "version": "3.11.5"
  }
 },
 "nbformat": 4,
 "nbformat_minor": 5
}
